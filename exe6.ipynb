{
 "cells": [
  {
   "cell_type": "code",
   "execution_count": 1,
   "metadata": {},
   "outputs": [],
   "source": [
    "import re \n",
    "import nltk\n",
    "import PyPDF2\n",
    "import pandas as pd"
   ]
  },
  {
   "cell_type": "code",
   "execution_count": 2,
   "metadata": {},
   "outputs": [
    {
     "name": "stdout",
     "output_type": "stream",
     "text": [
      "Valid Number\n"
     ]
    }
   ],
   "source": [
    "def valid_number(number):\n",
    "    if re.search(\"[-|+]?\\d+([.]\\d+)?\",number):\n",
    "        return \"Valid Number\"\n",
    "    else:\n",
    "        return \"Invalid Number\"\n",
    "print(valid_number('2.8033'))"
   ]
  },
  {
   "cell_type": "code",
   "execution_count": 3,
   "metadata": {},
   "outputs": [],
   "source": [
    "numberphone = input()"
   ]
  },
  {
   "cell_type": "code",
   "execution_count": 4,
   "metadata": {},
   "outputs": [
    {
     "name": "stdout",
     "output_type": "stream",
     "text": [
      "Not valid number\n"
     ]
    }
   ],
   "source": [
    "def phone_number(number):\n",
    "    regex = re.search(\"(([(]\\d?\\d{2}[)])|(\\d?\\d{2})) ?\\d?\\d{4}\\d{4}\", number)\n",
    "    if regex:\n",
    "        if regex[0] == number:\n",
    "            return 'Valid number'\n",
    "    return 'Not valid number'\n",
    "\n",
    "print(phone_number(numberphone))"
   ]
  },
  {
   "cell_type": "code",
   "execution_count": 5,
   "metadata": {},
   "outputs": [
    {
     "name": "stdout",
     "output_type": "stream",
     "text": [
      "None\n"
     ]
    }
   ],
   "source": [
    "def phone_number2(number):\n",
    "    regex = re.search(\"(([(]\\d?\\d{2}[)])|(\\d?\\d{2})) ?\\d?\\d{4}\\d{4}\", number)\n",
    "    if regex:\n",
    "        if regex[0] == number:\n",
    "            return (f'({numberphone[:2]}){numberphone[2:7]}-{numberphone[7:]}')\n",
    "    else:\n",
    "        return \"None\" \n",
    "print(phone_number2(numberphone))"
   ]
  },
  {
   "cell_type": "code",
   "execution_count": 6,
   "metadata": {},
   "outputs": [
    {
     "name": "stdout",
     "output_type": "stream",
     "text": [
      "AUTHORS:\n",
      " \n",
      "Amy Baker, Finance Chair, x345, abaker@ourcompany.com\n",
      " \n",
      "Chris Donaldson, Accounting Dir., x621, cdonaldson@ourcompany.com\n",
      " \n",
      "Erin Freeman, Sr. VP, x879, efreeman@ourcompany.com\n",
      " \n",
      "\n"
     ]
    }
   ],
   "source": [
    "arquivo = r\"Business_Proposal.pdf\"\n",
    "read = PyPDF2.PdfFileReader(arquivo)\n",
    "page = read.getPage(1)\n",
    "content = page.extractText()\n",
    "print(content)"
   ]
  },
  {
   "cell_type": "code",
   "execution_count": 7,
   "metadata": {},
   "outputs": [
    {
     "name": "stdout",
     "output_type": "stream",
     "text": [
      "AUTHORS:\n",
      " \n",
      "Amy Baker\n",
      " Finance Chair\n",
      " x345\n",
      " abaker@ourcompany.com\n",
      " \n",
      "Chris Donaldson\n",
      " Accounting Dir.\n",
      " x621\n",
      " cdonaldson@ourcompany.com\n",
      " \n",
      "Erin Freeman\n",
      " Sr. VP\n",
      " x879\n",
      " efreeman@ourcompany.com\n",
      " \n",
      "\n"
     ]
    }
   ],
   "source": [
    "content = re.sub(',','\\n',content)\n",
    "print(content)"
   ]
  },
  {
   "cell_type": "code",
   "execution_count": 8,
   "metadata": {},
   "outputs": [],
   "source": [
    "content = content.split(\"\\n \\n\")"
   ]
  },
  {
   "cell_type": "code",
   "execution_count": 9,
   "metadata": {},
   "outputs": [
    {
     "name": "stdout",
     "output_type": "stream",
     "text": [
      "['Amy Baker\\n Finance Chair\\n x345\\n abaker@ourcompany.com', 'Chris Donaldson\\n Accounting Dir.\\n x621\\n cdonaldson@ourcompany.com', 'Erin Freeman\\n Sr. VP\\n x879\\n efreeman@ourcompany.com']\n"
     ]
    }
   ],
   "source": [
    "content = content[1:4]\n",
    "print(content)"
   ]
  },
  {
   "cell_type": "code",
   "execution_count": 31,
   "metadata": {},
   "outputs": [
    {
     "name": "stdout",
     "output_type": "stream",
     "text": [
      "[' abaker@ourcompany.com']\n",
      "[' cdonaldson@ourcompany.com']\n",
      "[' efreeman@ourcompany.com']\n"
     ]
    }
   ],
   "source": [
    "for i in content:\n",
    "    print(re.findall(r\" .*@.*.com\",i))"
   ]
  },
  {
   "cell_type": "code",
   "execution_count": null,
   "metadata": {},
   "outputs": [],
   "source": []
  }
 ],
 "metadata": {
  "interpreter": {
   "hash": "28fed176da9af2ea6f007930910871573777e27f84472596c10e5707560e7b41"
  },
  "kernelspec": {
   "display_name": "Python 3.9.7 64-bit ('ai': conda)",
   "language": "python",
   "name": "python3"
  },
  "language_info": {
   "codemirror_mode": {
    "name": "ipython",
    "version": 3
   },
   "file_extension": ".py",
   "mimetype": "text/x-python",
   "name": "python",
   "nbconvert_exporter": "python",
   "pygments_lexer": "ipython3",
   "version": "3.9.7"
  },
  "orig_nbformat": 4
 },
 "nbformat": 4,
 "nbformat_minor": 2
}

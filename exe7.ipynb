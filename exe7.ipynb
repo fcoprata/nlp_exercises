{
 "cells": [
  {
   "cell_type": "markdown",
   "metadata": {},
   "source": [
    "# IMDB Classification"
   ]
  },
  {
   "cell_type": "markdown",
   "metadata": {},
   "source": [
    "In this problem we need to work with a dataset, where it was necessary to classify the phrases as positive and negative"
   ]
  },
  {
   "cell_type": "code",
   "execution_count": 1,
   "metadata": {},
   "outputs": [
    {
     "name": "stderr",
     "output_type": "stream",
     "text": [
      "[nltk_data] Downloading package words to\n",
      "[nltk_data]     C:\\Users\\francisco.neto\\AppData\\Roaming\\nltk_data...\n",
      "[nltk_data]   Package words is already up-to-date!\n",
      "[nltk_data] Downloading package stopwords to\n",
      "[nltk_data]     C:\\Users\\francisco.neto\\AppData\\Roaming\\nltk_data...\n",
      "[nltk_data]   Package stopwords is already up-to-date!\n",
      "[nltk_data] Downloading package punkt to\n",
      "[nltk_data]     C:\\Users\\francisco.neto\\AppData\\Roaming\\nltk_data...\n",
      "[nltk_data]   Package punkt is already up-to-date!\n",
      "[nltk_data] Downloading package wordnet to\n",
      "[nltk_data]     C:\\Users\\francisco.neto\\AppData\\Roaming\\nltk_data...\n",
      "[nltk_data]   Package wordnet is already up-to-date!\n"
     ]
    },
    {
     "data": {
      "text/plain": [
       "True"
      ]
     },
     "execution_count": 1,
     "metadata": {},
     "output_type": "execute_result"
    }
   ],
   "source": [
    "import pandas as pd\n",
    "import numpy as np\n",
    "import nltk\n",
    "import re\n",
    "from nltk.stem import WordNetLemmatizer\n",
    "from sklearn.feature_extraction.text import CountVectorizer, TfidfVectorizer\n",
    "from sklearn.naive_bayes import MultinomialNB\n",
    "from sklearn.model_selection import train_test_split\n",
    "from sklearn.metrics import classification_report, accuracy_score\n",
    "from sklearn.ensemble import RandomForestClassifier\n",
    "from sklearn.neural_network import MLPClassifier\n",
    "from sklearn.model_selection import RandomizedSearchCV\n",
    "from sklearn.svm import SVC\n",
    "from sklearn.tree import DecisionTreeClassifier\n",
    "from sklearn.neighbors import KNeighborsClassifier\n",
    "from sklearn.pipeline import make_pipeline\n",
    "import seaborn as sb\n",
    "from nltk.corpus import words, stopwords\n",
    "import matplotlib.pyplot as plt\n",
    "nltk.download('words')\n",
    "nltk.download('stopwords')\n",
    "nltk.download('punkt')\n",
    "nltk.download('wordnet')"
   ]
  },
  {
   "cell_type": "code",
   "execution_count": 2,
   "metadata": {},
   "outputs": [],
   "source": [
    "df = pd.read_csv('IMDB Dataset.csv')\n",
    "df = df.head(5000)"
   ]
  },
  {
   "cell_type": "code",
   "execution_count": 3,
   "metadata": {},
   "outputs": [
    {
     "data": {
      "text/html": [
       "<div>\n",
       "<style scoped>\n",
       "    .dataframe tbody tr th:only-of-type {\n",
       "        vertical-align: middle;\n",
       "    }\n",
       "\n",
       "    .dataframe tbody tr th {\n",
       "        vertical-align: top;\n",
       "    }\n",
       "\n",
       "    .dataframe thead th {\n",
       "        text-align: right;\n",
       "    }\n",
       "</style>\n",
       "<table border=\"1\" class=\"dataframe\">\n",
       "  <thead>\n",
       "    <tr style=\"text-align: right;\">\n",
       "      <th></th>\n",
       "      <th>review</th>\n",
       "      <th>sentiment</th>\n",
       "    </tr>\n",
       "  </thead>\n",
       "  <tbody>\n",
       "    <tr>\n",
       "      <th>count</th>\n",
       "      <td>5000</td>\n",
       "      <td>5000</td>\n",
       "    </tr>\n",
       "    <tr>\n",
       "      <th>unique</th>\n",
       "      <td>4997</td>\n",
       "      <td>2</td>\n",
       "    </tr>\n",
       "    <tr>\n",
       "      <th>top</th>\n",
       "      <td>Quite what the producers of this appalling ada...</td>\n",
       "      <td>negative</td>\n",
       "    </tr>\n",
       "    <tr>\n",
       "      <th>freq</th>\n",
       "      <td>2</td>\n",
       "      <td>2532</td>\n",
       "    </tr>\n",
       "  </tbody>\n",
       "</table>\n",
       "</div>"
      ],
      "text/plain": [
       "                                                   review sentiment\n",
       "count                                                5000      5000\n",
       "unique                                               4997         2\n",
       "top     Quite what the producers of this appalling ada...  negative\n",
       "freq                                                    2      2532"
      ]
     },
     "execution_count": 3,
     "metadata": {},
     "output_type": "execute_result"
    }
   ],
   "source": [
    "df.describe()"
   ]
  },
  {
   "cell_type": "code",
   "execution_count": 25,
   "metadata": {},
   "outputs": [
    {
     "data": {
      "text/html": [
       "<div>\n",
       "<style scoped>\n",
       "    .dataframe tbody tr th:only-of-type {\n",
       "        vertical-align: middle;\n",
       "    }\n",
       "\n",
       "    .dataframe tbody tr th {\n",
       "        vertical-align: top;\n",
       "    }\n",
       "\n",
       "    .dataframe thead th {\n",
       "        text-align: right;\n",
       "    }\n",
       "</style>\n",
       "<table border=\"1\" class=\"dataframe\">\n",
       "  <thead>\n",
       "    <tr style=\"text-align: right;\">\n",
       "      <th></th>\n",
       "      <th>review</th>\n",
       "      <th>sentiment</th>\n",
       "    </tr>\n",
       "  </thead>\n",
       "  <tbody>\n",
       "    <tr>\n",
       "      <th>0</th>\n",
       "      <td>One of the other reviewers has mentioned that ...</td>\n",
       "      <td>positive</td>\n",
       "    </tr>\n",
       "    <tr>\n",
       "      <th>1</th>\n",
       "      <td>A wonderful little production. &lt;br /&gt;&lt;br /&gt;The...</td>\n",
       "      <td>positive</td>\n",
       "    </tr>\n",
       "    <tr>\n",
       "      <th>2</th>\n",
       "      <td>I thought this was a wonderful way to spend ti...</td>\n",
       "      <td>positive</td>\n",
       "    </tr>\n",
       "    <tr>\n",
       "      <th>3</th>\n",
       "      <td>Basically there's a family where a little boy ...</td>\n",
       "      <td>negative</td>\n",
       "    </tr>\n",
       "    <tr>\n",
       "      <th>4</th>\n",
       "      <td>Petter Mattei's \"Love in the Time of Money\" is...</td>\n",
       "      <td>positive</td>\n",
       "    </tr>\n",
       "  </tbody>\n",
       "</table>\n",
       "</div>"
      ],
      "text/plain": [
       "                                              review sentiment\n",
       "0  One of the other reviewers has mentioned that ...  positive\n",
       "1  A wonderful little production. <br /><br />The...  positive\n",
       "2  I thought this was a wonderful way to spend ti...  positive\n",
       "3  Basically there's a family where a little boy ...  negative\n",
       "4  Petter Mattei's \"Love in the Time of Money\" is...  positive"
      ]
     },
     "execution_count": 25,
     "metadata": {},
     "output_type": "execute_result"
    }
   ],
   "source": [
    "df.head()"
   ]
  },
  {
   "cell_type": "code",
   "execution_count": 4,
   "metadata": {},
   "outputs": [],
   "source": [
    "X = df['review']\n",
    "y = df['sentiment']"
   ]
  },
  {
   "cell_type": "code",
   "execution_count": 5,
   "metadata": {},
   "outputs": [
    {
     "data": {
      "text/plain": [
       "'A wonderful little production. <br /><br />The filming technique is very unassuming- very old-time-BBC fashion and gives a comforting, and sometimes discomforting, sense of realism to the entire piece. <br /><br />The actors are extremely well chosen- Michael Sheen not only \"has got all the polari\" but he has all the voices down pat too! You can truly see the seamless editing guided by the references to Williams\\' diary entries, not only is it well worth the watching but it is a terrificly written and performed piece. A masterful production about one of the great master\\'s of comedy and his life. <br /><br />The realism really comes home with the little things: the fantasy of the guard which, rather than use the traditional \\'dream\\' techniques remains solid then disappears. It plays on our knowledge and our senses, particularly with the scenes concerning Orton and Halliwell and the sets (particularly of their flat with Halliwell\\'s murals decorating every surface) are terribly well done.'"
      ]
     },
     "execution_count": 5,
     "metadata": {},
     "output_type": "execute_result"
    }
   ],
   "source": [
    "X[1]"
   ]
  },
  {
   "cell_type": "markdown",
   "metadata": {},
   "source": [
    "#### In the case below, it has Markdown markings in the text and also words that are concatenated and we need to separate them to have a better performance in the analysis"
   ]
  },
  {
   "cell_type": "code",
   "execution_count": 6,
   "metadata": {},
   "outputs": [],
   "source": [
    "substitute = {\n",
    "    \"< br />\":'',\n",
    "    '<br />':'',\n",
    "    \"'ll\":' will',\n",
    "    \"'s\":' is',\n",
    "    \"'re\":' are',\n",
    "    \"n't\":' not'\n",
    "\n",
    "}"
   ]
  },
  {
   "cell_type": "code",
   "execution_count": 7,
   "metadata": {},
   "outputs": [],
   "source": [
    "def basic_preprocessing(X, dict_change):\n",
    "    new_x = []\n",
    "    for i in X:\n",
    "        text_lower = i.lower()\n",
    "        for key in dict_change:\n",
    "            if key in text_lower:\n",
    "                text_lower.replace(key, dict_change[key])\n",
    "        text_lower = re.sub(\"\\W\", ' ', text_lower)\n",
    "        text_lower = re.sub(\" +\", ' ', text_lower)\n",
    "        tokens = nltk.word_tokenize(text_lower)\n",
    "        tokens = [x for x in tokens if x not in stopwords.words('english')]  \n",
    "        new_x.append(' '.join(tokens))\n",
    "    return new_x\n",
    "\n",
    "def lemmatizer(X):\n",
    "    lemmatizer = WordNetLemmatizer()\n",
    "    new_x = []\n",
    "    for i in X:\n",
    "        tokens = nltk.word_tokenize(i)\n",
    "        for j in range(len(tokens)):\n",
    "            tokens[j] = lemmatizer.lemmatize(tokens[j])\n",
    "        new_x.append(' '.join(tokens))\n",
    "    return new_x\n"
   ]
  },
  {
   "cell_type": "code",
   "execution_count": 8,
   "metadata": {},
   "outputs": [],
   "source": [
    "def training(X, y, method, models, random_state):\n",
    "    df = {\n",
    "        'Model': [],\n",
    "        'Accuracy': []\n",
    "    }\n",
    "    X_train, X_test, y_train, y_test = train_test_split(X,y,test_size=0.25,random_state=random_state)\n",
    "    \n",
    "    for model in models:\n",
    "        pipeline = make_pipeline(method, models[model])\n",
    "        clf = pipeline.fit(X_train, y_train)\n",
    "        df['Model'].append(model)\n",
    "        df['Accuracy'].append(accuracy_score(y_test, clf.predict(X_test)))\n",
    "\n",
    "    return pd.DataFrame(df)"
   ]
  },
  {
   "cell_type": "code",
   "execution_count": 9,
   "metadata": {},
   "outputs": [],
   "source": [
    "def optimized_training(X, y,method, models, params,random_state, n_iter):\n",
    "    df = {\n",
    "        'Model':[],\n",
    "        'Params': [],\n",
    "        'Accuracy': [],\n",
    "    }\n",
    "    X = method.fit_transform(X)\n",
    "    X_train, X_test, y_train, y_test = train_test_split(X,y,test_size=0.25,random_state=random_state)\n",
    "    for model in models:\n",
    "        clf = RandomizedSearchCV(models[model], params[model], n_iter=n_iter)\n",
    "        clf.fit(X_train, y_train)\n",
    "        predict = clf.predict(X_test)\n",
    "        df['Model'].append(model)\n",
    "        df['Params'].append(clf.best_estimator_)\n",
    "        df['Accuracy'].append(accuracy_score(y_test, predict))\n",
    "    return pd.DataFrame(df)"
   ]
  },
  {
   "cell_type": "code",
   "execution_count": 10,
   "metadata": {},
   "outputs": [],
   "source": [
    "models = {\n",
    "    'MLP 1layer': MLPClassifier(max_iter=4000),\n",
    "    'MLP 2layer': MLPClassifier(max_iter=4000),\n",
    "    'SVC Linear': SVC(kernel='linear'),\n",
    "    'SVC Poly': SVC(kernel='poly'),\n",
    "    'KNN': KNeighborsClassifier(),\n",
    "    'Random Forest': RandomForestClassifier(),\n",
    "    'Decision tree': DecisionTreeClassifier(),\n",
    "}"
   ]
  },
  {
   "cell_type": "code",
   "execution_count": 11,
   "metadata": {},
   "outputs": [],
   "source": [
    "pre_processing = ['Basic Preprocessing', 'Lematization', 'add removing no words']\n",
    "preprocessed_data = []\n",
    "X = basic_preprocessing(X, substitute)\n"
   ]
  },
  {
   "cell_type": "code",
   "execution_count": null,
   "metadata": {},
   "outputs": [],
   "source": [
    "preprocessed_data.append(X)\n",
    "preprocessed_data.append(lemmatizer(X))"
   ]
  },
  {
   "cell_type": "code",
   "execution_count": 12,
   "metadata": {},
   "outputs": [],
   "source": [
    "dataframe = pd.DataFrame()\n",
    "methods = [CountVectorizer(), TfidfVectorizer()]\n",
    "for i in methods:\n",
    "    for index, item in enumerate(preprocessed_data):\n",
    "        dataframe_aux = training(item, y, i, models, 42)\n",
    "        dataframe_aux['Pre_Processing'] = pre_processing[index]\n",
    "        dataframe_aux['Method'] = f'{i}'\n",
    "        dataframe = pd.concat([dataframe, dataframe_aux], ignore_index=True)"
   ]
  },
  {
   "cell_type": "code",
   "execution_count": 13,
   "metadata": {},
   "outputs": [
    {
     "data": {
      "text/html": [
       "<div>\n",
       "<style scoped>\n",
       "    .dataframe tbody tr th:only-of-type {\n",
       "        vertical-align: middle;\n",
       "    }\n",
       "\n",
       "    .dataframe tbody tr th {\n",
       "        vertical-align: top;\n",
       "    }\n",
       "\n",
       "    .dataframe thead th {\n",
       "        text-align: right;\n",
       "    }\n",
       "</style>\n",
       "<table border=\"1\" class=\"dataframe\">\n",
       "  <thead>\n",
       "    <tr style=\"text-align: right;\">\n",
       "      <th></th>\n",
       "      <th>Model</th>\n",
       "      <th>Accuracy</th>\n",
       "      <th>Pre_Processing</th>\n",
       "      <th>Method</th>\n",
       "    </tr>\n",
       "  </thead>\n",
       "  <tbody>\n",
       "    <tr>\n",
       "      <th>0</th>\n",
       "      <td>MLP 1layer</td>\n",
       "      <td>0.8632</td>\n",
       "      <td>Basic Preprocessing</td>\n",
       "      <td>CountVectorizer()</td>\n",
       "    </tr>\n",
       "    <tr>\n",
       "      <th>1</th>\n",
       "      <td>MLP 2layer</td>\n",
       "      <td>0.8592</td>\n",
       "      <td>Basic Preprocessing</td>\n",
       "      <td>CountVectorizer()</td>\n",
       "    </tr>\n",
       "    <tr>\n",
       "      <th>2</th>\n",
       "      <td>SVC Linear</td>\n",
       "      <td>0.8328</td>\n",
       "      <td>Basic Preprocessing</td>\n",
       "      <td>CountVectorizer()</td>\n",
       "    </tr>\n",
       "    <tr>\n",
       "      <th>3</th>\n",
       "      <td>SVC Poly</td>\n",
       "      <td>0.6768</td>\n",
       "      <td>Basic Preprocessing</td>\n",
       "      <td>CountVectorizer()</td>\n",
       "    </tr>\n",
       "    <tr>\n",
       "      <th>4</th>\n",
       "      <td>KNN</td>\n",
       "      <td>0.5856</td>\n",
       "      <td>Basic Preprocessing</td>\n",
       "      <td>CountVectorizer()</td>\n",
       "    </tr>\n",
       "  </tbody>\n",
       "</table>\n",
       "</div>"
      ],
      "text/plain": [
       "        Model  Accuracy       Pre_Processing             Method\n",
       "0  MLP 1layer    0.8632  Basic Preprocessing  CountVectorizer()\n",
       "1  MLP 2layer    0.8592  Basic Preprocessing  CountVectorizer()\n",
       "2  SVC Linear    0.8328  Basic Preprocessing  CountVectorizer()\n",
       "3    SVC Poly    0.6768  Basic Preprocessing  CountVectorizer()\n",
       "4         KNN    0.5856  Basic Preprocessing  CountVectorizer()"
      ]
     },
     "execution_count": 13,
     "metadata": {},
     "output_type": "execute_result"
    }
   ],
   "source": [
    "dataframe.head()"
   ]
  },
  {
   "cell_type": "code",
   "execution_count": 14,
   "metadata": {},
   "outputs": [
    {
     "data": {
      "text/plain": [
       "(0.4, 0.91476)"
      ]
     },
     "execution_count": 14,
     "metadata": {},
     "output_type": "execute_result"
    },
    {
     "data": {
      "image/png": "[encoded data removed]",
      "text/plain": [
       "<Figure size 495.5x2520 with 7 Axes>"
      ]
     },
     "metadata": {
      "needs_background": "light"
     },
     "output_type": "display_data"
    }
   ],
   "source": [
    "sb.catplot(data=dataframe, hue='Pre_Processing', y='Accuracy', x='Method', row='Model', kind='bar')\n",
    "plt.ylim(0.4)"
   ]
  },
  {
   "cell_type": "code",
   "execution_count": 15,
   "metadata": {},
   "outputs": [],
   "source": [
    "models = {\n",
    "    'SVC Linear': SVC(kernel='linear'),\n",
    "}"
   ]
  },
  {
   "cell_type": "code",
   "execution_count": 16,
   "metadata": {},
   "outputs": [],
   "source": [
    "from numpy.random import randint\n",
    "C = [2 ** i for i in range(-5, 16,2)]\n",
    "gamma = [2 ** i for i in range(-15, 4,2)]"
   ]
  },
  {
   "cell_type": "code",
   "execution_count": 17,
   "metadata": {},
   "outputs": [],
   "source": [
    "import random\n",
    "gamma = random.choices(gamma, k=3)\n",
    "gamma.append('scale')\n",
    "gamma.append('auto')"
   ]
  },
  {
   "cell_type": "code",
   "execution_count": 18,
   "metadata": {},
   "outputs": [],
   "source": [
    "C = random.choices(C, k=3)"
   ]
  },
  {
   "cell_type": "code",
   "execution_count": 19,
   "metadata": {},
   "outputs": [],
   "source": [
    "params = {\n",
    "    'SVC Linear': {'gamma':gamma, 'C':C },\n",
    "    'MLP 1layer': {'hidden_layer_sizes':[(x, ) for x in range(2,1000)]},\n",
    "    'MLP 2layer': {'hidden_layer_sizes':[(randint(50,1000), randint(50,1000)) for x in range(2,1000)]},\n",
    "}"
   ]
  },
  {
   "cell_type": "code",
   "execution_count": 20,
   "metadata": {},
   "outputs": [],
   "source": [
    "dataframe = pd.DataFrame()\n",
    "methods = [CountVectorizer(), TfidfVectorizer()]\n",
    "for i in methods:\n",
    "    for index, item in enumerate(preprocessed_data):\n",
    "        dataframe_aux = optimized_training(X,y,i,models,params,42,15)\n",
    "        dataframe_aux['Pre_Processing'] = pre_processing[index]\n",
    "        dataframe_aux['Method'] = f'{i}'\n",
    "        dataframe = pd.concat([dataframe, dataframe_aux], ignore_index=True)"
   ]
  },
  {
   "cell_type": "code",
   "execution_count": 24,
   "metadata": {},
   "outputs": [
    {
     "data": {
      "text/html": [
       "<div>\n",
       "<style scoped>\n",
       "    .dataframe tbody tr th:only-of-type {\n",
       "        vertical-align: middle;\n",
       "    }\n",
       "\n",
       "    .dataframe tbody tr th {\n",
       "        vertical-align: top;\n",
       "    }\n",
       "\n",
       "    .dataframe thead th {\n",
       "        text-align: right;\n",
       "    }\n",
       "</style>\n",
       "<table border=\"1\" class=\"dataframe\">\n",
       "  <thead>\n",
       "    <tr style=\"text-align: right;\">\n",
       "      <th></th>\n",
       "      <th>Model</th>\n",
       "      <th>Params</th>\n",
       "      <th>Accuracy</th>\n",
       "      <th>Pre_Processing</th>\n",
       "      <th>Method</th>\n",
       "    </tr>\n",
       "  </thead>\n",
       "  <tbody>\n",
       "    <tr>\n",
       "      <th>0</th>\n",
       "      <td>SVC Linear</td>\n",
       "      <td>SVC(C=0.125, gamma=3.0517578125e-05, kernel='l...</td>\n",
       "      <td>0.8352</td>\n",
       "      <td>Basic Preprocessing</td>\n",
       "      <td>CountVectorizer()</td>\n",
       "    </tr>\n",
       "    <tr>\n",
       "      <th>1</th>\n",
       "      <td>SVC Linear</td>\n",
       "      <td>SVC(C=0.125, gamma=3.0517578125e-05, kernel='l...</td>\n",
       "      <td>0.8352</td>\n",
       "      <td>Lematization</td>\n",
       "      <td>CountVectorizer()</td>\n",
       "    </tr>\n",
       "    <tr>\n",
       "      <th>2</th>\n",
       "      <td>SVC Linear</td>\n",
       "      <td>SVC(C=2, gamma=3.0517578125e-05, kernel='linear')</td>\n",
       "      <td>0.8608</td>\n",
       "      <td>Basic Preprocessing</td>\n",
       "      <td>TfidfVectorizer()</td>\n",
       "    </tr>\n",
       "    <tr>\n",
       "      <th>3</th>\n",
       "      <td>SVC Linear</td>\n",
       "      <td>SVC(C=2, gamma=3.0517578125e-05, kernel='linear')</td>\n",
       "      <td>0.8608</td>\n",
       "      <td>Lematization</td>\n",
       "      <td>TfidfVectorizer()</td>\n",
       "    </tr>\n",
       "  </tbody>\n",
       "</table>\n",
       "</div>"
      ],
      "text/plain": [
       "        Model                                             Params  Accuracy  \\\n",
       "0  SVC Linear  SVC(C=0.125, gamma=3.0517578125e-05, kernel='l...    0.8352   \n",
       "1  SVC Linear  SVC(C=0.125, gamma=3.0517578125e-05, kernel='l...    0.8352   \n",
       "2  SVC Linear  SVC(C=2, gamma=3.0517578125e-05, kernel='linear')    0.8608   \n",
       "3  SVC Linear  SVC(C=2, gamma=3.0517578125e-05, kernel='linear')    0.8608   \n",
       "\n",
       "        Pre_Processing             Method  \n",
       "0  Basic Preprocessing  CountVectorizer()  \n",
       "1         Lematization  CountVectorizer()  \n",
       "2  Basic Preprocessing  TfidfVectorizer()  \n",
       "3         Lematization  TfidfVectorizer()  "
      ]
     },
     "execution_count": 24,
     "metadata": {},
     "output_type": "execute_result"
    }
   ],
   "source": [
    "dataframe.head()"
   ]
  },
  {
   "cell_type": "code",
   "execution_count": 22,
   "metadata": {},
   "outputs": [
    {
     "data": {
      "text/plain": [
       "<AxesSubplot:xlabel='Method', ylabel='Accuracy'>"
      ]
     },
     "execution_count": 22,
     "metadata": {},
     "output_type": "execute_result"
    },
    {
     "data": {
      "image/png": "[encoded data removed]",
      "text/plain": [
       "<Figure size 432x288 with 1 Axes>"
      ]
     },
     "metadata": {
      "needs_background": "light"
     },
     "output_type": "display_data"
    }
   ],
   "source": [
    "sb.barplot(x='Method', y='Accuracy', data=dataframe)"
   ]
  },
  {
   "cell_type": "markdown",
   "metadata": {},
   "source": [
    "# Analysis Results"
   ]
  },
  {
   "cell_type": "markdown",
   "metadata": {},
   "source": [
    "To classify we used default classifiers and with changes through randomized search, we obtained very satisfactory results with about 85% accuracy, but the best results were with the 1-layer MLP, using basic pre-processing and countvectorizer, with about 86, 32%, another result was the linear svc with tfidf, which remained with 86.08% and in this case random search was used"
   ]
  }
 ],
 "metadata": {
  "interpreter": {
   "hash": "28fed176da9af2ea6f007930910871573777e27f84472596c10e5707560e7b41"
  },
  "kernelspec": {
   "display_name": "Python 3.9.7 64-bit ('ai': conda)",
   "language": "python",
   "name": "python3"
  },
  "language_info": {
   "codemirror_mode": {
    "name": "ipython",
    "version": 3
   },
   "file_extension": ".py",
   "mimetype": "text/x-python",
   "name": "python",
   "nbconvert_exporter": "python",
   "pygments_lexer": "ipython3",
   "version": "3.9.7"
  },
  "orig_nbformat": 4
 },
 "nbformat": 4,
 "nbformat_minor": 2
}
